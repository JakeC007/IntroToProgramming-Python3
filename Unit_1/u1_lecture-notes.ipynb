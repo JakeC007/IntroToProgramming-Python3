{
 "cells": [
  {
   "cell_type": "markdown",
   "metadata": {
    "deletable": true,
    "editable": true
   },
   "source": [
    "# Unit 1 Lecture Notes\n",
    "Feel free to follow along at https://nbviewer.org/github/JakeC007/IntroToProgramming-Python3/blob/main/Unit_1/u1_lecture-notes.ipynb"
   ]
  },
  {
   "cell_type": "markdown",
   "metadata": {
    "deletable": true,
    "editable": true
   },
   "source": [
    "## Basic Variable Assignment\n",
    "\n",
    "- Variables are evaluated on the right first and then stored on the left\n",
    "- Varaibles can only start with letters, not numbers and they cannot contain any special characters or spaces"
   ]
  },
  {
   "cell_type": "code",
   "execution_count": 1,
   "metadata": {
    "collapsed": false
   },
   "outputs": [
    {
     "ename": "SyntaxError",
     "evalue": "invalid syntax (<ipython-input-1-17e8f55a3506>, line 1)",
     "output_type": "error",
     "traceback": [
      "\u001b[1;36m  File \u001b[1;32m\"<ipython-input-1-17e8f55a3506>\"\u001b[1;36m, line \u001b[1;32m1\u001b[0m\n\u001b[1;33m    1foo\u001b[0m\n\u001b[1;37m       ^\u001b[0m\n\u001b[1;31mSyntaxError\u001b[0m\u001b[1;31m:\u001b[0m invalid syntax\n"
     ]
    }
   ],
   "source": [
    "foo = 10"
   ]
  },
  {
   "cell_type": "code",
   "execution_count": null,
   "metadata": {
    "collapsed": true
   },
   "outputs": [],
   "source": [
    "foo10 = 10"
   ]
  },
  {
   "cell_type": "code",
   "execution_count": 2,
   "metadata": {
    "collapsed": false
   },
   "outputs": [
    {
     "ename": "SyntaxError",
     "evalue": "invalid syntax (<ipython-input-2-5a8013f4d871>, line 1)",
     "output_type": "error",
     "traceback": [
      "\u001b[1;36m  File \u001b[1;32m\"<ipython-input-2-5a8013f4d871>\"\u001b[1;36m, line \u001b[1;32m1\u001b[0m\n\u001b[1;33m    foo@\u001b[0m\n\u001b[1;37m        ^\u001b[0m\n\u001b[1;31mSyntaxError\u001b[0m\u001b[1;31m:\u001b[0m invalid syntax\n"
     ]
    }
   ],
   "source": [
    "foo@ = 10"
   ]
  },
  {
   "cell_type": "code",
   "execution_count": 3,
   "metadata": {
    "collapsed": false
   },
   "outputs": [
    {
     "ename": "SyntaxError",
     "evalue": "invalid syntax (<ipython-input-3-9653af03c89c>, line 1)",
     "output_type": "error",
     "traceback": [
      "\u001b[1;36m  File \u001b[1;32m\"<ipython-input-3-9653af03c89c>\"\u001b[1;36m, line \u001b[1;32m1\u001b[0m\n\u001b[1;33m    10foo = 10\u001b[0m\n\u001b[1;37m        ^\u001b[0m\n\u001b[1;31mSyntaxError\u001b[0m\u001b[1;31m:\u001b[0m invalid syntax\n"
     ]
    }
   ],
   "source": [
    "10foo = 10"
   ]
  },
  {
   "cell_type": "code",
   "execution_count": 52,
   "metadata": {
    "collapsed": false,
    "deletable": true,
    "editable": true
   },
   "outputs": [
    {
     "name": "stdout",
     "output_type": "stream",
     "text": [
      "7\n",
      "hello world!\n"
     ]
    }
   ],
   "source": [
    "def main():\n",
    "    x = 7\n",
    "    foo = \"hello world!\"\n",
    "    print(x)\n",
    "    print(foo)\n",
    "\n",
    "main() ## needed to drive the code"
   ]
  },
  {
   "cell_type": "markdown",
   "metadata": {
    "deletable": true,
    "editable": true
   },
   "source": [
    "## Functions Aren't Scary\n",
    "\n",
    "Why should you use a function? Well...\n",
    "- manageability: Dividing a complex program up into easy-to-manage chunks\n",
    "- reusability: a good function may be useful in multiple programs\n",
    "- encapsulation: wrapping a piece of useful code into a function so that it can be used without knowledge of the specifics"
   ]
  },
  {
   "cell_type": "markdown",
   "metadata": {
    "deletable": true,
    "editable": true
   },
   "source": [
    "Often times, a function is a blackbox where you give it some input and it spits out some output. \n",
    "\n",
    "*e.g.,* the following function `plt.plot([1, 2, 3, 4], [1, 4, 9, 16])` generates\n",
    "\n",
    "![Image of a Graph](sphx_glr_pyplot_002.webp)"
   ]
  },
  {
   "cell_type": "markdown",
   "metadata": {
    "deletable": true,
    "editable": true
   },
   "source": [
    "You can define your own functions too! Before we hop into that, here a few things you should consider when writing your own functions:\n",
    "\n",
    "- What is the purpose of the function?\n",
    "- How should I name the function?\n",
    "- What input does the function need?\n",
    "- What output should the function generate?"
   ]
  },
  {
   "cell_type": "markdown",
   "metadata": {
    "deletable": true,
    "editable": true
   },
   "source": [
    "A function is defined once. After the definition, Python has remembered what this function does in its memory. A function is executed/called as many times as we like. When calling a function, you should always use parenthesis."
   ]
  },
  {
   "cell_type": "code",
   "execution_count": 51,
   "metadata": {
    "collapsed": true,
    "deletable": true,
    "editable": true
   },
   "outputs": [],
   "source": [
    "## Function definition \n",
    "def greet():\n",
    "    print(\"Hello! How are you?\")\n",
    "    return None\n",
    "\n",
    "print(\"Function call 1\")\n",
    "greet() \n",
    "print(\"Function call 2\")\n",
    "greet() \n",
    "\n",
    "## Note that we can call the function as many times as we would like but it is only defined once"
   ]
  },
  {
   "cell_type": "markdown",
   "metadata": {
    "deletable": true,
    "editable": true
   },
   "source": [
    "### Passing Variables"
   ]
  },
  {
   "cell_type": "code",
   "execution_count": 22,
   "metadata": {
    "collapsed": false,
    "deletable": true,
    "editable": true
   },
   "outputs": [
    {
     "name": "stdout",
     "output_type": "stream",
     "text": [
      "In main 7 is x and 10 is y\n",
      "In addr 7 is x and 10 is y\n",
      "17\n",
      "In addr_2 7 is x and 10 is y\n",
      "17\n"
     ]
    }
   ],
   "source": [
    "'''\n",
    "Let's see what the difference is between addr and addr_2\n",
    "'''\n",
    "def addr(x, y):\n",
    "    print(\"In addr %d is x and %d is y\" % (x,y))\n",
    "    print(x+y)\n",
    "    return None\n",
    "\n",
    "def addr_2(a, b):\n",
    "    print(\"In addr_2 %d is x and %d is y\" % (a,b))\n",
    "    print(a+b)\n",
    "    return None\n",
    "    \n",
    "def main():\n",
    "    x = 7\n",
    "    y = 10\n",
    "    print(\"In main %d is x and %d is y\" % (x,y))\n",
    "    \n",
    "    addr(x,y)\n",
    "    \n",
    "#     addr_2(x,y)\n",
    "main() ## function call needed to drive the code"
   ]
  },
  {
   "cell_type": "markdown",
   "metadata": {
    "deletable": true,
    "editable": true
   },
   "source": [
    "## Global VS Local Scope"
   ]
  },
  {
   "cell_type": "code",
   "execution_count": 49,
   "metadata": {
    "collapsed": false,
    "deletable": true,
    "editable": true
   },
   "outputs": [
    {
     "name": "stdout",
     "output_type": "stream",
     "text": [
      "Before: In main 7 is x and 10 is y\n",
      "\n",
      "Inside addr: We got 2 as x and 10 as y\n",
      "Inside addr: The sum of 2 as x and 10 as y is 12\n",
      "\n",
      "After: In main 7 is x and 10 is y\n"
     ]
    }
   ],
   "source": [
    "\"\"\"\n",
    "What happens when we change a var inside a function?\n",
    "\"\"\"\n",
    "def addr(x, y):\n",
    "    x = 2\n",
    "    print(\"Inside addr: We got %d as x and %d as y\" % (x,y))\n",
    "    z = x + y\n",
    "    print(\"Inside addr: The sum of %d as x and %d as y is %d\\n\" % (x,y,z))\n",
    "    \n",
    "    return None\n",
    "    \n",
    "def main():\n",
    "    x = 7\n",
    "    y = 10\n",
    "    print(\"Before: In main %d is x and %d is y\\n\" % (x,y))\n",
    "    addr(x,y)\n",
    "    print(\"After: In main %d is x and %d is y\" % (x,y))\n",
    "    \n",
    "main()"
   ]
  },
  {
   "cell_type": "code",
   "execution_count": 45,
   "metadata": {
    "collapsed": false,
    "deletable": true,
    "editable": true
   },
   "outputs": [
    {
     "name": "stdout",
     "output_type": "stream",
     "text": [
      "Before: In main 7 is x and 10 is y\n",
      "Before: -17 is a and it is a global variable\n",
      "\n",
      "Inside addr: We got 7 is x and 10 is y\n",
      "Inside addr: We also have a as -17\n",
      "Inside addr: The sum of all three is 0\n",
      "\n",
      "After: In main 7 is x and 10 is y\n"
     ]
    }
   ],
   "source": [
    "\"\"\"\n",
    "What happens when we throw in a var that wasn't passed in nor defined in the function?\n",
    "\"\"\"\n",
    "\n",
    "def addr(x, y):\n",
    "    print(\"Inside addr: We got %d as x and %d as y\" % (x,y))\n",
    "    print(\"Inside addr: We also have a as %d\" % (a))\n",
    "    z = x + y + a\n",
    "    print(\"Inside addr: The sum of all three is %d\\n\" % (z))\n",
    "    \n",
    "    return None\n",
    "    \n",
    "def main():\n",
    "    x = 7\n",
    "    y = 10\n",
    "    print(\"Before: In main %d is x and %d is y\" % (x,y))\n",
    "    print(\"Before: %d is a and it is a global variable\\n\" % (a))\n",
    "    addr(x,y)\n",
    "    print(\"After: In main %d is x and %d is y\" % (x,y))\n",
    "    \n",
    "a = -17 # global scope\n",
    "main()"
   ]
  },
  {
   "cell_type": "code",
   "execution_count": 47,
   "metadata": {
    "collapsed": false,
    "deletable": true,
    "editable": true
   },
   "outputs": [
    {
     "name": "stdout",
     "output_type": "stream",
     "text": [
      "Before: In main 7 is x and 10 is y\n",
      "Before: -17 is a and it is a global variable\n",
      "\n",
      "Inside addr: We got 7 as x and 10 as y\n",
      "Inside addr: We also have a as 1\n",
      "Inside addr: The sum of all three is 18\n",
      "\n",
      "After: In main 7 is x and 10 is y and -17 is a\n"
     ]
    }
   ],
   "source": [
    "\"\"\"\n",
    "What happens when we try to change the value of the global var?\n",
    "\"\"\"\n",
    "\n",
    "def addr(x, y):\n",
    "    print(\"Inside addr: We got %d as x and %d as y\" % (x,y))\n",
    "    a = 1 ## local var overrides global var\n",
    "    print(\"Inside addr: We also have a as %d\" % (a))\n",
    "    z = x + y + a\n",
    "    print(\"Inside addr: The sum of all three is %d\\n\" % (z))\n",
    "    \n",
    "    return None\n",
    "    \n",
    "def main():\n",
    "    x = 7\n",
    "    y = 10\n",
    "    print(\"Before: In main %d is x and %d is y\" % (x,y))\n",
    "    print(\"Before: %d is a and it is a global variable\\n\" % (a))\n",
    "    addr(x,y)\n",
    "    print(\"After: In main %d is x and %d is y and %d is a\" % (x,y, a))\n",
    "    \n",
    "a = -17 # global scope\n",
    "main()"
   ]
  },
  {
   "cell_type": "markdown",
   "metadata": {
    "deletable": true,
    "editable": true
   },
   "source": [
    "*Note* that you can read a global variable from within a function; it is just in a strictly \"read-only\" fashion. As soon as you assign something to the global variable, the variable will be just a local copy. Hence why in \"After\" a = -17\n",
    "\n",
    "**As a general rule you should try to refrain from using global variables as much as possible** "
   ]
  },
  {
   "cell_type": "code",
   "execution_count": 50,
   "metadata": {
    "collapsed": false,
    "deletable": true,
    "editable": true
   },
   "outputs": [
    {
     "name": "stdout",
     "output_type": "stream",
     "text": [
      "3\n"
     ]
    }
   ],
   "source": [
    "\"\"\"\n",
    "Your turn: what happens when we run the following code?\n",
    "\"\"\"\n",
    "\n",
    "def set_x():\n",
    "    x = 14    \n",
    "    return None\n",
    "\n",
    "\n",
    "x = 3\n",
    "set_x()\n",
    "print(x)"
   ]
  },
  {
   "cell_type": "markdown",
   "metadata": {
    "deletable": true,
    "editable": true
   },
   "source": [
    "In summary, Python's hiearcy for varaibles is Local then Global."
   ]
  },
  {
   "cell_type": "markdown",
   "metadata": {
    "deletable": true,
    "editable": true
   },
   "source": [
    "## Returning Variables"
   ]
  },
  {
   "cell_type": "code",
   "execution_count": 62,
   "metadata": {
    "collapsed": false,
    "deletable": true,
    "editable": true
   },
   "outputs": [
    {
     "name": "stdout",
     "output_type": "stream",
     "text": [
      "Before: In main 7 is x and 10 is y\n",
      "\n",
      "Inside addr: We got 2 as x and 10 as y\n",
      "Inside addr: The sum of 2 as x and 10 as y is 12\n",
      "\n",
      "After: addr returned 12!\n"
     ]
    }
   ],
   "source": [
    "\"\"\"\n",
    "We use `return` to pass back data to the function that called us\n",
    "\"\"\"\n",
    "def addr(x, y):\n",
    "    x = 2\n",
    "    print(\"Inside addr: We got %d as x and %d as y\" % (x,y))\n",
    "    z = x + y\n",
    "    print(\"Inside addr: The sum of %d as x and %d as y is %d\\n\" % (x,y,z))\n",
    "    \n",
    "    return z\n",
    "    \n",
    "def main():\n",
    "    x = 7\n",
    "    y = 10\n",
    "    print(\"Before: In main %d is x and %d is y\\n\" % (x,y))\n",
    "    b = addr(x,y)\n",
    "#     addr(6,-10)\n",
    "    \n",
    "    print(\"After: addr returned %d!\" % (b))\n",
    "    \n",
    "main()"
   ]
  },
  {
   "cell_type": "markdown",
   "metadata": {
    "deletable": true,
    "editable": true
   },
   "source": [
    "-------------------------------------------------------"
   ]
  },
  {
   "cell_type": "markdown",
   "metadata": {
    "deletable": true,
    "editable": true
   },
   "source": [
    "## Passing Vars\n",
    "\n",
    "When a parameter is **passed by reference**, the caller and the callee use the **same variable for the parameter**. If the callee modifies the parameter variable, the effect is visible to the caller's variable.\n",
    "\n",
    "When a parameter is **passed by value**, the caller and callee have **two independent variables with the same value**. If the callee modifies the parameter variable, the effect is not visible to the caller. \n",
    "\n",
    "Technically, Python is neither of these things. Instead, it is “pass-by-object-reference.” However, that is advanced stuff. For the time being, it is best to think of it like this:\n",
    "\n",
    "- mutable objects (lists, dict, set) can be changed. When you pass a new function a mutable object you also pass it the tools (*i.e.,* methods) you need to directly mutate the orginal object. You don't even have to return the value. However if you try to reassign new data to the varaible, the the varaible in the orginal function will not be changed.\n",
    "\n",
    "- immutable objects (int, float, bool, string, and tuple) cannot be changed. Thus, if you try to assign the varaible a new value the varaible in the orginal function will not be changed"
   ]
  },
  {
   "cell_type": "code",
   "execution_count": 80,
   "metadata": {
    "collapsed": false,
    "deletable": true,
    "editable": true
   },
   "outputs": [
    {
     "name": "stdout",
     "output_type": "stream",
     "text": [
      "This is lst: [1, 2, 3, 4, 5, 6, 7, 8, 9, 10]\n",
      "\n",
      "This is lst after the update_lst function: [10, 9, 8, 7, 6, 5, 4, 3, 2, 1]\n",
      "\n",
      "Inside new_lst: [10, 9, 8, 7, 6, 5, 4, 3, 2, 1]\n",
      "This is lst: ['apple', 'orange', 'pear'] \n",
      "\n",
      "This is lst after the new_lst function: [10, 9, 8, 7, 6, 5, 4, 3, 2, 1]\n",
      "\n",
      "This is what new_lst returned ['apple', 'orange', 'pear']\n"
     ]
    }
   ],
   "source": [
    "\"\"\"\n",
    "Example to show how lists mutability allow them to be changed in another function\n",
    "\"\"\"\n",
    "\n",
    "def update_lst(lst):\n",
    "    lst.reverse() ##reverses the list\n",
    "    \n",
    "    return None\n",
    "    \n",
    "def new_lst(lst):\n",
    "    print(\"Inside new_lst: %s\" %(lst))\n",
    "    lst = [\"apple\", \"orange\", \"pear\"]\n",
    "    print(\"This is lst: %s \\n\" %(lst))\n",
    "    \n",
    "    return lst\n",
    "\n",
    "def main():\n",
    "        lst = list(range(1,11))\n",
    "        print(\"This is lst: %s\\n\" %(lst))\n",
    "        \n",
    "        update_lst(lst)\n",
    "        print(\"This is lst after the update_lst function: %s\\n\" %(lst))\n",
    "        \n",
    "        ret = new_lst(lst)\n",
    "        print(\"This is lst after the new_lst function: %s\\n\" %(lst))\n",
    "        print(\"This is what new_lst returned %s\" %(ret))\n",
    "            \n",
    "main()"
   ]
  },
  {
   "cell_type": "markdown",
   "metadata": {
    "deletable": true,
    "editable": true
   },
   "source": [
    "Note that we were able to modify `lst` and not need to return it but we were unable to affect the `lst` in `main()` by changing the data stored in `lst`. "
   ]
  },
  {
   "cell_type": "markdown",
   "metadata": {
    "deletable": true,
    "editable": true
   },
   "source": [
    "## Resources Consulted or Used \n",
    "\n",
    "[1] [LEGB rule](https://nbviewer.org/github/rasbt/python_reference/blob/master/tutorials/scope_resolution_legb_rule.ipynb)\n",
    "\n",
    "[2] [Python is “pass-by-object-reference”](https://robertheaton.com/2014/02/09/pythons-pass-by-object-reference-as-explained-by-philip-k-dick/#:~:text=The%20two%20most%20widely%20known,references%20are%20passed%20by%20value.%E2%80%9D)\n",
    "\n",
    "[3] [Immutable vs Mutable Scope](https://stackoverflow.com/questions/986006/how-do-i-pass-a-variable-by-reference)\n",
    "\n",
    "https://notebook.community/evanmiltenburg/python-for-text-analysis/Chapters/Chapter%2011%20-%20Functions%20and%20scope\n"
   ]
  }
 ],
 "metadata": {
  "kernelspec": {
   "display_name": "Python 3",
   "language": "python",
   "name": "python3"
  },
  "language_info": {
   "codemirror_mode": {
    "name": "ipython",
    "version": 3
   },
   "file_extension": ".py",
   "mimetype": "text/x-python",
   "name": "python",
   "nbconvert_exporter": "python",
   "pygments_lexer": "ipython3",
   "version": "3.5.2"
  }
 },
 "nbformat": 4,
 "nbformat_minor": 2
}
