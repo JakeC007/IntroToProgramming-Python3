{
 "cells": [
  {
   "cell_type": "markdown",
   "metadata": {
    "deletable": true,
    "editable": true
   },
   "source": [
    "# Unit 1 Lecture Notes\n",
    "Feel free to follow along at TBD"
   ]
  },
  {
   "cell_type": "markdown",
   "metadata": {
    "deletable": true,
    "editable": true
   },
   "source": [
    "\n",
    "### Problem 1: Math!\n",
    "\n",
    "Use the math operations that ask for two integers and spits out the following computations:\n",
    "- Addition (+)\n",
    "- Subtraction (-)\n",
    "- Multiplication (*)\n",
    "- Division (/)\n",
    "\n",
    "Here are two examples of the program running. User input is shown in **bold**:\n",
    "\n",
    "First example\n",
    "\n",
    ">Please enter two integers.\n",
    ">\n",
    ">First integer: **3**\n",
    ">\n",
    ">Second integer: **7**\n",
    ">\n",
    ">3 + 7 = 10\n",
    ">\n",
    ">3-7 = -4\n",
    ">\n",
    ">3 * 7 = 21\n",
    ">\n",
    ">3 / 7 = 0.42857142857142855\n",
    "\n",
    "Second Example\n",
    "\n",
    ">Please enter two integers.\n",
    ">\n",
    ">First integer: **12**\n",
    ">\n",
    ">Second integer: **18**\n",
    ">\n",
    ">3 + 7 = 30\n",
    ">\n",
    ">3-7 = -6\n",
    ">\n",
    ">3 * 7 = 216\n",
    ">\n",
    ">3 / 7 = 0.666667"
   ]
  },
  {
   "cell_type": "markdown",
   "metadata": {
    "collapsed": false,
    "deletable": true,
    "editable": true
   },
   "source": [
    "### Problem 2 Digitial Mad Lib\n",
    "\n",
    "Create a madlib generator that follows the following format \n",
    "\n",
    "> Alas, poor PROPER NOUN! I knew him, Horatio: a fellow\n",
    "> of ADJECTIVE NOUN, of most excellent fancy: he hath\n",
    "> VERB me on his back a thousand times; and now, how\n",
    "> abhorred in my imagination it is!\n",
    "\n",
    "Your program will ask for the following \n",
    "- Noun\n",
    "- Adjective\n",
    "- Proper Noun \n",
    "- Verb\n"
   ]
  },
  {
   "cell_type": "markdown",
   "metadata": {},
   "source": [
    "### Problem 3 Tip Calculator\n",
    "Given a decimal number input representing a restaurant bill, tips.py should report tip amounts for 10%, 15%, and 20%, along with the totals. Note: you are not required to format decimals to round to the nearest penny. We haven’t learned how to do that yet.\n",
    "\n",
    ">How much was the bill? **10.00**\n",
    ">\n",
    ">\n",
    ">10% tip: \\$1.0, Total: \\$11.0\n",
    ">\n",
    ">15% tip: \\$1.5, Total: \\$11.5\n",
    ">\n",
    ">20% tip: \\$2.0, Total: \\$12.0\n"
   ]
  },
  {
   "cell_type": "markdown",
   "metadata": {},
   "source": [
    "### Problem 4: Wooooooooooo!\n",
    "*Note* You need to know loops to do this one \n",
    "\n",
    "> How many wooos? **4**\n",
    ">\n",
    "> woo!\n",
    ">\n",
    "> wooo!!\n",
    ">\n",
    "> woooo!!!\n",
    ">\n",
    "> wooooo!!!!\n",
    "\n",
    "Your program should have the following features:\n",
    "\n",
    "- The user selects the number of lines to print. You can assume the user enters a positive integer.\n",
    "\n",
    "- Each line should consist of a \"woo\" followed by a number of exclamation points.\n",
    "\n",
    "- The first line should contain one exclamation point; the second line two exclamation points, and so on.\n",
    "\n",
    "- Each line should contain one more o than !."
   ]
  },
  {
   "cell_type": "markdown",
   "metadata": {},
   "source": [
    "### Problem 5: The Square\n",
    "\n",
    "The program should then\n",
    "\n",
    "- print out the side length for the square,\n",
    "\n",
    "- print out the perimeter of the square (the perimiter of a square is the sum of the side lengths), and\n",
    "\n",
    "- use @ symbols to print out a text square. The length of the text square should be the largest integer less than or equal to the actual side length of the square.\n",
    "\n",
    "> Enter the area of your square: **36**\n",
    ">\n",
    "> Your square has side length: 6.0.\n",
    ">\n",
    "> Your square has perimeter: 24.0.\n",
    "> \n",
    "\n",
    "> @@@@@@\n",
    ">\n",
    "> @@@@@@\n",
    ">\n",
    "> @@@@@@\n",
    ">\n",
    "> @@@@@@\n",
    ">\n",
    "> @@@@@@\n",
    ">\n",
    "> @@@@@@\n"
   ]
  }
 ],
 "metadata": {
  "kernelspec": {
   "display_name": "Python 3",
   "language": "python",
   "name": "python3"
  },
  "language_info": {
   "codemirror_mode": {
    "name": "ipython",
    "version": 3
   },
   "file_extension": ".py",
   "mimetype": "text/x-python",
   "name": "python",
   "nbconvert_exporter": "python",
   "pygments_lexer": "ipython3",
   "version": "3.5.2"
  }
 },
 "nbformat": 4,
 "nbformat_minor": 2
}
