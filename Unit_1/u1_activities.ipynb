{
 "cells": [
  {
   "cell_type": "markdown",
   "metadata": {
    "deletable": true,
    "editable": true
   },
   "source": [
    "# Unit 1 Lecture Notes\n",
    "Feel free to follow along at TBD"
   ]
  },
  {
   "cell_type": "markdown",
   "metadata": {},
   "source": [
    "https://www.cs.swarthmore.edu/courses/CS21/F21/labs/lab01.html\n",
    "### Problem 1: Math!\n",
    "\n",
    "Use the math operations that ask for two integers and spits out the following computations:\n",
    "- Addition (+)\n",
    "- Subtraction (-)\n",
    "- Multiplication (*)\n",
    "- Division (/)\n",
    "\n",
    "Here are two examples of the program running. User input is shown in **bold**:\n",
    "\n",
    "First example\n",
    "\n",
    ">Please enter two integers.\n",
    ">\n",
    ">First integer: **3**\n",
    ">\n",
    ">Second integer: **7**\n",
    ">\n",
    ">3 + 7 = 10\n",
    ">3-7 = -4\n",
    ">3 * 7 = 21\n",
    ">3 / 7 = 0.42857142857142855\n",
    "\n",
    "Second Example\n",
    "\n",
    ">Please enter two integers.\n",
    ">\n",
    ">First integer: **12**\n",
    ">\n",
    ">Second integer: **18**\n",
    ">\n",
    ">3 + 7 = 30\n",
    ">3-7 = -6\n",
    ">3 * 7 = 216\n",
    ">3 / 7 = 0.666667"
   ]
  },
  {
   "cell_type": "code",
   "execution_count": 3,
   "metadata": {
    "collapsed": false
   },
   "outputs": [
    {
     "name": "stdout",
     "output_type": "stream",
     "text": [
      "First int: 12\n",
      "Second int: 18\n",
      "12 + 18 = 30\n",
      "12 - 18 = -6\n",
      "12 * 18 = 216\n",
      "12 / 18 = 0.666667\n"
     ]
    }
   ],
   "source": [
    "def main():\n",
    "    x = int(input(\"First int: \"))\n",
    "    y = int(input(\"Second int: \"))\n",
    "    \n",
    "    print(\"%d + %d = %d\" %(x, y, x+y))\n",
    "    print(\"%d - %d = %d\" %(x, y, x-y))\n",
    "    print(\"%d * %d = %d\" %(x, y, x*y))\n",
    "    print(\"%d / %d = %f\" %(x, y, x/y))\n",
    "    \n",
    "    \n",
    "main()    "
   ]
  }
 ],
 "metadata": {
  "kernelspec": {
   "display_name": "Python 3",
   "language": "python",
   "name": "python3"
  },
  "language_info": {
   "codemirror_mode": {
    "name": "ipython",
    "version": 3
   },
   "file_extension": ".py",
   "mimetype": "text/x-python",
   "name": "python",
   "nbconvert_exporter": "python",
   "pygments_lexer": "ipython3",
   "version": "3.5.2"
  }
 },
 "nbformat": 4,
 "nbformat_minor": 2
}
