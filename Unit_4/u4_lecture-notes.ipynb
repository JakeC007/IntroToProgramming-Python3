{
 "cells": [
  {
   "cell_type": "markdown",
   "metadata": {
    "deletable": true,
    "editable": true
   },
   "source": [
    "# Unit 4"
   ]
  },
  {
   "cell_type": "markdown",
   "metadata": {
    "deletable": true,
    "editable": true
   },
   "source": [
    "## Review: Basic Variable Assignment"
   ]
  },
  {
   "cell_type": "markdown",
   "metadata": {
    "deletable": true,
    "editable": true
   },
   "source": [
    "Recall that varaibles are evaulated on the right and stored on the left:\n",
    "\n",
    "`<var_name> = <data>`"
   ]
  },
  {
   "cell_type": "code",
   "execution_count": 1,
   "metadata": {
    "collapsed": false,
    "deletable": true,
    "editable": true
   },
   "outputs": [
    {
     "name": "stdout",
     "output_type": "stream",
     "text": [
      "x is 11\n",
      "foo is hello world!\n",
      "lst is [1, 2, 3, 4]\n"
     ]
    }
   ],
   "source": [
    "def main():\n",
    "    x = 7+3\n",
    "    x = x+1\n",
    "    foo = \"hello world!\"\n",
    "    lst = [1,2,3,4]\n",
    "    print(\"x is %d\" %(x))\n",
    "    print(\"foo is %s\" %(foo))\n",
    "    print(\"lst is %s\" % (lst))\n",
    "\n",
    "main() ## needed to drive the code"
   ]
  },
  {
   "cell_type": "markdown",
   "metadata": {
    "deletable": true,
    "editable": true
   },
   "source": [
    "## Functions Aren't Scary\n",
    "\n",
    "Why should you use a function? Well...\n",
    "- manageability: Dividing a complex program up into easy-to-manage chunks\n",
    "- reusability: a good function may be useful in multiple programs\n",
    "- encapsulation: wrapping a piece of useful code into a function so that it can be used without knowledge of the specifics"
   ]
  },
  {
   "cell_type": "markdown",
   "metadata": {
    "deletable": true,
    "editable": true
   },
   "source": [
    "Often times, a function is a blackbox where you give it some input and it spits out some output. \n",
    "\n",
    "*e.g.,* the following function `plt.plot([1, 2, 3, 4], [1, 4, 9, 16])` generates"
   ]
  },
  {
   "cell_type": "code",
   "execution_count": 3,
   "metadata": {
    "collapsed": false,
    "deletable": true,
    "editable": true
   },
   "outputs": [
    {
     "data": {
      "image/png": "[encoded data removed]",
      "text/plain": [
       "<matplotlib.figure.Figure at 0x23d5a0e0c18>"
      ]
     },
     "metadata": {},
     "output_type": "display_data"
    }
   ],
   "source": [
    "import matplotlib.pyplot as plt\n",
    "plt.plot([1, 2, 3, 4], [1, 4, 9, 16]) \n",
    "plt.show()"
   ]
  },
  {
   "cell_type": "markdown",
   "metadata": {
    "deletable": true,
    "editable": true
   },
   "source": [
    "You can define your own functions too! Before we hop into that, here a few things you should consider when writing your own functions:\n",
    "\n",
    "- What is the purpose of the function?\n",
    "- How should I name the function?\n",
    "- What input does the function need?\n",
    "- What output should the function generate?"
   ]
  },
  {
   "cell_type": "markdown",
   "metadata": {
    "deletable": true,
    "editable": true
   },
   "source": [
    "Defining your own functions require the following special words for python to know that you want to define a function.\n",
    "- Start a function by writing `def` which tells Python that you e want to define a function\n",
    "- Write the name of your function. (Be sure its sensible!)\n",
    "- For now just add `()` to the end of your name. Later on we will add content inside the parentheses which will allow us to pass data to the function, but for now we're going to side step that.\n",
    "- Add a `:` to tell Python that you are done writing \n",
    "- end your function by writing `return` which tells Python that you want to end the function and return `<some_data>`. We'll get into what it means to return some data "
   ]
  },
  {
   "cell_type": "code",
   "execution_count": 4,
   "metadata": {
    "collapsed": false,
    "deletable": true,
    "editable": true
   },
   "outputs": [
    {
     "name": "stdout",
     "output_type": "stream",
     "text": [
      "Function call 1\n",
      "Hello! How are you?\n",
      "Function call 2\n",
      "Hello! How are you?\n"
     ]
    }
   ],
   "source": [
    "## Function definition \n",
    "def greet():\n",
    "    print(\"Hello! How are you?\")\n",
    "    return None\n",
    "\n",
    "def main():\n",
    "    print(\"Function call 1\")\n",
    "    greet() \n",
    "    print(\"Function call 2\")\n",
    "    greet() \n",
    "    \n",
    "main()\n",
    "## Note that we can call the function as many times as we would like but it is only defined once"
   ]
  },
  {
   "cell_type": "markdown",
   "metadata": {
    "deletable": true,
    "editable": true
   },
   "source": [
    "**A function is defined once.** After the definition, Python has remembered what this function does in its memory. A function is executed/called as many times as we like. When calling a function, you should always use parenthesis."
   ]
  },
  {
   "cell_type": "markdown",
   "metadata": {
    "deletable": true,
    "editable": true
   },
   "source": [
    "### Passing Variables"
   ]
  },
  {
   "cell_type": "markdown",
   "metadata": {
    "deletable": true,
    "editable": true
   },
   "source": [
    "You can pass data (*i.e.* variables) to your functions by adding **arguments** to your function definition. Let's modify our `greet` function to have a person's name as an input. We will add the argument `personName`  "
   ]
  },
  {
   "cell_type": "code",
   "execution_count": 8,
   "metadata": {
    "collapsed": false,
    "deletable": true,
    "editable": true
   },
   "outputs": [
    {
     "name": "stdout",
     "output_type": "stream",
     "text": [
      "Function call 1\n",
      "Jake\n",
      "Hello! How are you?\n",
      "Function call 2\n",
      "Ally\n",
      "Hello! How are you?\n"
     ]
    }
   ],
   "source": [
    "## Function definition \n",
    "def greet(personName):\n",
    "    print(personName)\n",
    "    print(\"Hello! How are you?\")\n",
    "    return None\n",
    "\n",
    "def main():\n",
    "    print(\"Function call 1\")\n",
    "    greet(\"Jake\") ## \"Jake\" is a parameter \n",
    "    print(\"Function call 2\")\n",
    "    greet(\"Ally\") ## \"Ally\" is a parameter \n",
    "    \n",
    "main()\n",
    "## Note that we can call the function as many times as we would like but it is only defined once"
   ]
  },
  {
   "cell_type": "markdown",
   "metadata": {
    "deletable": true,
    "editable": true
   },
   "source": [
    "In summary, **arguments** is the term used for varaibles that you define in your function definition to take data into the function. In contrast, **parameter** is the term used for the actual data that you pass into a function call. *e.g,* in the function call `greet(\"Jake\")`, `\"Jake\"` is the parameter."
   ]
  },
  {
   "cell_type": "markdown",
   "metadata": {
    "deletable": true,
    "editable": true
   },
   "source": [
    "### Passing Multiple Variables"
   ]
  },
  {
   "cell_type": "code",
   "execution_count": 7,
   "metadata": {
    "collapsed": false,
    "deletable": true,
    "editable": true
   },
   "outputs": [
    {
     "name": "stdout",
     "output_type": "stream",
     "text": [
      "In main 7 is x and 10 is y\n",
      "\n",
      "In addr 7 is x and 10 is y\n",
      "17\n",
      "\n",
      "In addr_2 7 is x and 10 is y\n",
      "17\n"
     ]
    }
   ],
   "source": [
    "'''\n",
    "Let's see what the difference is between addr and addr_2\n",
    "'''\n",
    "def addr(x, y):\n",
    "    print(\"\\nIn addr %d is x and %d is y\" % (x,y))\n",
    "    print(x+y)\n",
    "    return None\n",
    "\n",
    "def addr_2(a, b):\n",
    "    print(\"\\nIn addr_2 %d is x and %d is y\" % (a,b))\n",
    "    print(a+b)\n",
    "    return None\n",
    "    \n",
    "def main():\n",
    "    x = 7\n",
    "    y = 10\n",
    "    print(\"In main %d is x and %d is y\" % (x,y))\n",
    "    \n",
    "    addr(x,y)\n",
    "    \n",
    "    addr_2(x,y)\n",
    "main() ## function call needed to drive the code"
   ]
  },
  {
   "cell_type": "markdown",
   "metadata": {
    "deletable": true,
    "editable": true
   },
   "source": [
    "## Global VS Local Scope"
   ]
  },
  {
   "cell_type": "code",
   "execution_count": 9,
   "metadata": {
    "collapsed": false,
    "deletable": true,
    "editable": true
   },
   "outputs": [
    {
     "name": "stdout",
     "output_type": "stream",
     "text": [
      "Before: In main 7 is x and 10 is y\n",
      "\n",
      "Inside addr: We got 2 as x and 10 as y\n",
      "Inside addr: The sum of 2 as x and 10 as y is 12\n",
      "\n",
      "After: In main 7 is x and 10 is y\n"
     ]
    }
   ],
   "source": [
    "\"\"\"\n",
    "What happens when we change a var inside a function?\n",
    "\"\"\"\n",
    "def addr(x, y):\n",
    "    x = 2\n",
    "    print(\"Inside addr: We got %d as x and %d as y\" % (x,y))\n",
    "    z = x + y\n",
    "    print(\"Inside addr: The sum of %d as x and %d as y is %d\\n\" % (x,y,z))\n",
    "    \n",
    "    return None\n",
    "    \n",
    "def main():\n",
    "    x = 7\n",
    "    y = 10\n",
    "    print(\"Before: In main %d is x and %d is y\\n\" % (x,y))\n",
    "    addr(x,y)\n",
    "    print(\"After: In main %d is x and %d is y\" % (x,y))\n",
    "    \n",
    "main()"
   ]
  },
  {
   "cell_type": "code",
   "execution_count": null,
   "metadata": {
    "collapsed": false,
    "deletable": true,
    "editable": true
   },
   "outputs": [],
   "source": [
    "\"\"\"\n",
    "What happens when we throw in a var that wasn't passed in nor defined in the function?\n",
    "\"\"\"\n",
    "\n",
    "def addr(x, y):\n",
    "    print(\"Inside addr: We got %d as x and %d as y\" % (x,y))\n",
    "    print(\"Inside addr: We also have a as %d\" % (a))\n",
    "    z = x + y + a\n",
    "    print(\"Inside addr: The sum of all three is %d\\n\" % (z))\n",
    "    \n",
    "    return None\n",
    "    \n",
    "def main():\n",
    "    x = 7\n",
    "    y = 10\n",
    "    print(\"Before: In main %d is x and %d is y\" % (x,y))\n",
    "    print(\"Before: %d is a and it is a global variable\\n\" % (a))\n",
    "    addr(x,y)\n",
    "    print(\"After: In main %d is x and %d is y\" % (x,y))\n",
    "    \n",
    "a = -17 ## global var (has global scope)\n",
    "main()"
   ]
  },
  {
   "cell_type": "code",
   "execution_count": null,
   "metadata": {
    "collapsed": false,
    "deletable": true,
    "editable": true
   },
   "outputs": [],
   "source": [
    "\"\"\"\n",
    "What happens when we try to change the value of the global var?\n",
    "\"\"\"\n",
    "\n",
    "def addr(x, y):\n",
    "    print(\"Inside addr: We got %d as x and %d as y\" % (x,y))\n",
    "    a = 1 ## local var overrides global var\n",
    "    print(\"Inside addr: We also have a as %d\" % (a))\n",
    "    z = x + y + a\n",
    "    print(\"Inside addr: The sum of all three is %d\\n\" % (z))\n",
    "    \n",
    "    return None\n",
    "    \n",
    "def main():\n",
    "    x = 7\n",
    "    y = 10\n",
    "    print(\"Before: In main %d is x and %d is y\" % (x,y))\n",
    "    print(\"Before: %d is a and it is a global variable\\n\" % (a))\n",
    "    addr(x,y)\n",
    "    print(\"After: In main %d is x and %d is y and %d is a\" % (x,y, a))\n",
    "    \n",
    "a = -17 ## global var\n",
    "main()"
   ]
  },
  {
   "cell_type": "markdown",
   "metadata": {
    "deletable": true,
    "editable": true
   },
   "source": [
    "*Note* that you can read a global variable from within a function; it is just in a strictly \"read-only\" fashion. As soon as you assign something to the global variable, the variable will be just a local copy. Hence why in \"After\" a = -17\n",
    "\n",
    "**As a general rule you should try to refrain from using global variables as much as possible** "
   ]
  },
  {
   "cell_type": "code",
   "execution_count": null,
   "metadata": {
    "collapsed": false,
    "deletable": true,
    "editable": true
   },
   "outputs": [],
   "source": [
    "\"\"\"\n",
    "Your turn: what happens when we run the following code?\n",
    "\"\"\"\n",
    "\n",
    "def set_x():\n",
    "    x = 14    \n",
    "    return None\n",
    "\n",
    "\n",
    "x = 3\n",
    "set_x()\n",
    "print(x)"
   ]
  },
  {
   "cell_type": "markdown",
   "metadata": {
    "deletable": true,
    "editable": true
   },
   "source": [
    "In summary, Python's hiearcy for varaibles is Local then Global."
   ]
  },
  {
   "cell_type": "markdown",
   "metadata": {
    "deletable": true,
    "editable": true
   },
   "source": [
    "## Returning Variables"
   ]
  },
  {
   "cell_type": "code",
   "execution_count": null,
   "metadata": {
    "collapsed": false,
    "deletable": true,
    "editable": true,
    "scrolled": true
   },
   "outputs": [],
   "source": [
    "\"\"\"\n",
    "We use `return` to pass back data to the function that called us\n",
    "\"\"\"\n",
    "def addr(x, y):\n",
    "    x = 2\n",
    "    print(\"Inside addr: We got %d as x and %d as y\" % (x,y))\n",
    "    z = x + y\n",
    "    print(\"Inside addr: The sum of %d as x and %d as y is %d\\n\" % (x,y,z))\n",
    "    \n",
    "    return z\n",
    "    \n",
    "def main():\n",
    "    x = 7\n",
    "    y = 10\n",
    "    print(\"Before: In main %d is x and %d is y\\n\" % (x,y))\n",
    "    b = addr(x,y)\n",
    "#     addr(6,-10) ## Post presentation note: uncomment me!\n",
    "    \n",
    "    print(\"After: addr returned %d!\" % (b))\n",
    "    \n",
    "main()"
   ]
  },
  {
   "cell_type": "markdown",
   "metadata": {
    "deletable": true,
    "editable": true
   },
   "source": [
    "## More On Passing Variables\n",
    "\n",
    "When a parameter is **passed by reference**, the caller and the callee use the **same variable for the parameter**. If the callee modifies the parameter variable, the effect is visible to the caller's variable.\n",
    "\n",
    "When a parameter is **passed by value**, the caller and callee have **two independent variables with the same value**. If the callee modifies the parameter variable, the effect is not visible to the caller. \n",
    "\n",
    "Technically, Python is neither of these things. Instead, it is “pass-by-object-reference” [2]. However, that is advanced stuff. For the time being, it is best to think of it like this:\n",
    "\n",
    "- mutable objects (lists, dict, set) can be changed. When you pass a new function a mutable object you also pass it the tools (*i.e.,* methods) you need to directly mutate the orginal object. You don't even have to return the value. However if you try to reassign new data to the varaible, the the varaible in the orginal function will not be changed.\n",
    "\n",
    "- immutable objects (int, float, bool, string, and tuple) cannot be changed. Thus, if you try to assign the varaible a new value the varaible in the orginal function will not be changed\n",
    "\n",
    "(credit to [3])"
   ]
  },
  {
   "cell_type": "code",
   "execution_count": null,
   "metadata": {
    "collapsed": false,
    "deletable": true,
    "editable": true
   },
   "outputs": [],
   "source": [
    "\"\"\"\n",
    "Example to show how lists mutability allow them to be changed in another function\n",
    "\"\"\"\n",
    "\n",
    "def update_lst(lst):\n",
    "    lst.reverse() ##reverses the list\n",
    "    \n",
    "    return None\n",
    "    \n",
    "def new_lst(lst):\n",
    "    print(\"Inside new_lst: %s\" %(lst))\n",
    "    lst = [\"apple\", \"orange\", \"pear\"]\n",
    "    print(\"This is lst: %s \\n\" %(lst))\n",
    "    \n",
    "    return lst\n",
    "\n",
    "def main():\n",
    "        lst = list(range(1,11))\n",
    "        print(\"This is lst: %s\\n\" %(lst))\n",
    "        \n",
    "        update_lst(lst)\n",
    "        print(\"This is lst after the update_lst function: %s\\n\" %(lst))\n",
    "        \n",
    "        ret = new_lst(lst)\n",
    "        print(\"This is lst after the new_lst function: %s\\n\" %(lst))\n",
    "        print(\"This is what new_lst returned %s\" %(ret))\n",
    "            \n",
    "main()"
   ]
  },
  {
   "cell_type": "markdown",
   "metadata": {
    "deletable": true,
    "editable": true
   },
   "source": [
    "Note that we were able to modify `lst` and not need to return it but we were unable to affect the `lst` in `main()` by changing the data stored in `lst`. "
   ]
  },
  {
   "cell_type": "markdown",
   "metadata": {},
   "source": [
    "## Resources Consulted or Used \n",
    "\n",
    "[1] [LEGB rule](https://nbviewer.org/github/rasbt/python_reference/blob/master/tutorials/scope_resolution_legb_rule.ipynb)\n",
    "\n",
    "[2] [Python is “pass-by-object-reference”](https://robertheaton.com/2014/02/09/pythons-pass-by-object-reference-as-explained-by-philip-k-dick/#:~:text=The%20two%20most%20widely%20known,references%20are%20passed%20by%20value.%E2%80%9D)\n",
    "\n",
    "[3] [Immutable vs Mutable Scope](https://stackoverflow.com/questions/986006/how-do-i-pass-a-variable-by-reference)"
   ]
  }
 ],
 "metadata": {
  "kernelspec": {
   "display_name": "Python 3",
   "language": "python",
   "name": "python3"
  },
  "language_info": {
   "codemirror_mode": {
    "name": "ipython",
    "version": 3
   },
   "file_extension": ".py",
   "mimetype": "text/x-python",
   "name": "python",
   "nbconvert_exporter": "python",
   "pygments_lexer": "ipython3",
   "version": "3.5.2"
  }
 },
 "nbformat": 4,
 "nbformat_minor": 2
}
