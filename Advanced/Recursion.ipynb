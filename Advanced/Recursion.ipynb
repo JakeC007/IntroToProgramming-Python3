{
 "cells": [
  {
   "cell_type": "markdown",
   "metadata": {},
   "source": [
    "### How To Check Answers\n",
    "```\n",
    "# using print and then visually inspecting the output\n",
    "lst = [2, 8]\n",
    "result = contains_even(lst)\n",
    "print(\"contains_even(%s) = %s\" % (lst, result))\n",
    "\n",
    "# using assert and having python check your answers\n",
    "assert contains_even(lst) == True\n",
    "```"
   ]
  },
  {
   "cell_type": "markdown",
   "metadata": {},
   "source": [
    "### Contains Even\n",
    "Write a function called `contains_even` that takes a list of integers as its only parameter and returns True if the list contains an even number. Otherwise, this function returns False.\n",
    "\n",
    "```\n",
    "contains_even([1, 2, 3, 5, 8]) == True\n",
    "contains_even([2, 8]) == True\n",
    "contains_even([1, 3, 5]) == False\n",
    "```"
   ]
  },
  {
   "cell_type": "markdown",
   "metadata": {},
   "source": [
    "### Summing the even numbers in a list\n",
    "\n",
    "Write a function called `sum_even` that takes a list of integers as its only parameter and returns the sum of all of the even numbers in the list. For example\n",
    "\n",
    "```\n",
    "sum_even([1, 2, 3, 5, 8]) == 10\n",
    "sum_even([2, 8]) == 10\n",
    "sum_even([1, 3, 5]) == 0\n",
    "```\n"
   ]
  },
  {
   "cell_type": "markdown",
   "metadata": {},
   "source": [
    "### Summing every other element in a list\n",
    "\n",
    "Write a function called `sum_every_other` that takes a list of integers as its only parameter and returns the sum of the 1st, 3rd, 5th, etc elements in the list.\n",
    "\n",
    "```\n",
    "sum_every_other([1, 2, 3, 5, 8]) == 1 + 3 + 8 == 12\n",
    "sum_every_other([2, 8]) == 2\n",
    "sum_every_other([1, 3, 5]) == 1 + 5 == 6\n",
    "```\n"
   ]
  },
  {
   "cell_type": "markdown",
   "metadata": {},
   "source": [
    "### Evens only\n",
    "\n",
    "Write a function called `keep_evens` that takes a list of integers as its only parameter and returns a new list with all of the odd numbers removed.\n",
    "```\n",
    "keep_evens([1, 2, 3, 5, 8]) == [2, 8]\n",
    "keep_evens([2, 8]) == [2, 8]\n",
    "keep_evens([1, 3, 5]) == []\n",
    "```\n"
   ]
  },
  {
   "cell_type": "markdown",
   "metadata": {},
   "source": [
    "### No vowels\n",
    "\n",
    "Write a function called `no_vowels` that takes a string as its only parameter and returns a new string with all of the vowels removed. (The letter y is not a vowel for this purpose.)\n",
    "\n",
    "```\n",
    "no_vowels(\"hello\") == \"hll\"\n",
    "no_vowels(\"sky\") == \"sky\"\n",
    "no_vowels(\"eieio\") == \"\"\n",
    "```\n"
   ]
  },
  {
   "cell_type": "markdown",
   "metadata": {},
   "source": [
    "### cpy\n",
    "\n",
    "Write a function called `cpy(word, n)` that takes a string, word, and a non-negative integer, n, as parameters and returns a string where the word appears n times. Note: Do not use string multiplication to solve this.\n",
    "\n",
    "```\n",
    "cpy(\"oink\", 2) == \"oinkoink\"\n",
    "cpy(\"go\", 3) == \"gogogo\"\n",
    "cpy(\"\", 50) == \"\"\n",
    "```\n"
   ]
  },
  {
   "cell_type": "markdown",
   "metadata": {},
   "source": [
    "### Recursive Binary Search \n",
    "Using the function stub below write a recursive copy of binary search"
   ]
  },
  {
   "cell_type": "code",
   "execution_count": null,
   "metadata": {
    "collapsed": true
   },
   "outputs": [],
   "source": [
    "def binary_search(item, lst, low, high):\n",
    "    \"\"\"\n",
    "    Purpose: Perform binary search on a list\n",
    "    Parameters:\n",
    "      - item, an item to search for in the list\n",
    "      - lst, a list of items of the same type as the item\n",
    "      - low, the lowest index in the list where the item could be\n",
    "      - high, the highest index in the list where the item could be\n",
    "    Return: the index of the item in the list or -1 if the list\n",
    "      does not contain the item\n",
    "    \"\"\""
   ]
  }
 ],
 "metadata": {
  "kernelspec": {
   "display_name": "Python 3",
   "language": "python",
   "name": "python3"
  },
  "language_info": {
   "codemirror_mode": {
    "name": "ipython",
    "version": 3
   },
   "file_extension": ".py",
   "mimetype": "text/x-python",
   "name": "python",
   "nbconvert_exporter": "python",
   "pygments_lexer": "ipython3",
   "version": "3.5.2"
  }
 },
 "nbformat": 4,
 "nbformat_minor": 2
}
