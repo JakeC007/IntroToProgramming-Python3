{
 "cells": [
  {
   "cell_type": "markdown",
   "metadata": {},
   "source": [
    "## Tic Tac Toe\n",
    "\n",
    "In tictactoe.py you will implement a version of the tic-tac-toe game. In this game, players alternate between placing their symbol (either \"X\" or \"O\") inside a 3x3 grid. The first player to get three in a line (either on a row, a column, or a diagonal) wins.\n",
    "\n",
    "In our version, the user will play against the computer. The computer will always play first and use the symbol \"O\", and the user will play second and use the symbol \"X\". The game can end with the user winning, the computer winning, or a tie.\n"
   ]
  },
  {
   "cell_type": "markdown",
   "metadata": {},
   "source": [
    "### Incrementally develop main\n",
    "\n",
    "Start by creating a main program that prints the welcome message. Test and modify your main until you are happy with the look of the welcome message.\n",
    "\n",
    "As you add each function to your program, you will be using main to test them, so your main program will go through many iterations before you get to the final version. This is normal.\n"
   ]
  },
  {
   "cell_type": "markdown",
   "metadata": {},
   "source": [
    "### Display the board\n",
    "\n",
    "In order to implement tic-tac-toe we will be using a list of characters to represent the board. The board will begin as a list of 9 empty spaces:\n",
    "```\n",
    "board = [\" \",\" \",\" \",\" \",\" \",\" \",\" \",\" \",\" \"]\n",
    "```\n",
    "Add the above assignment statement to your main program.\n",
    "\n",
    "The board will be modified after each player takes a turn. For example, if the computer chooses to play in position 3, then the board will change to:\n",
    "```\n",
    "[\" \",\" \",\" \",\"O\",\" \",\" \",\" \",\" \",\" \"]\n",
    "```\n",
    "If the user chooses to play in position 7, then the board will change to:\n",
    "```\n",
    "[\" \",\" \",\" \",\"O\",\" \",\" \",\" \",\"X\",\" \"]\n",
    "```\n",
    "Write a function called display_board(board), that takes in a board represented in this way, and prints the board in the familiar grid format of tic-tac-toe. This function does not return any value, it is done for its side effect.\n",
    "\n",
    "For example, the board above would print as:\n",
    "\n",
    "```\n",
    "   |   |\n",
    "-----------\n",
    " O |   |\n",
    "-----------\n",
    "   | X |\n",
    "```"
   ]
  },
  {
   "cell_type": "markdown",
   "metadata": {},
   "source": [
    "### Test `display_board`\n",
    "\n",
    "Add the following assignment statement to your main program:\n",
    "```\n",
    "sample_board = [\"0\",\"1\",\"2\",\"3\",\"4\",\"5\",\"6\",\"7\",\"8\"]\n",
    "```\n",
    "Update your main program to print the instructions about how to play the game, and use your display_board function to draw out the sample board:\n",
    "```\n",
    " 0 | 1 | 2\n",
    "-----------\n",
    " 3 | 4 | 5\n",
    "-----------\n",
    " 6 | 7 | 8\n",
    "```\n",
    "Once you are convinced that your function works you may move on.\n"
   ]
  },
  {
   "cell_type": "markdown",
   "metadata": {},
   "source": [
    "### User turn\n",
    "\n",
    "Write a function called `user_turn(board)` that takes in the current board as input and modifies the board to contain the user’s chosen play.\n",
    "\n",
    "This function should prompt the user for a choice between 0 and 8. Your function will continue to prompt the user until they provide a valid choice. A valid choice must be between 0 and 8 (inclusive) and it must be an empty spot on the board. You should modify the board with a \"X\" at their valid choice. Note that this function does not return any value, but as a side effect modifies the board.\n"
   ]
  },
  {
   "cell_type": "markdown",
   "metadata": {},
   "source": [
    "### Test `user_turn`\n",
    "\n",
    "In your main program, create a for loop to call the `user_turn` function and the display_board function 3 times. Ensure that your function only allows valid plays. Clearly, in the real game, the user will not be allowed to take multiple turns in a row. However, this is just a convenient way to test the function. Once you are convinced the function is correct you may move on.\n"
   ]
  },
  {
   "cell_type": "markdown",
   "metadata": {},
   "source": [
    "### Computer turn\n",
    "\n",
    "Write a function called `computer_turn(board)` that takes in the current board as input and modifies the board to contain the computer’s chosen play. There is no return value for this function\n",
    "\n",
    "To implement the computer’s turn you should create a list of all of the empty locations on the current board. Then you should you the random library’s choice function to select one of these empty locations. Be sure to update the board with an \"O\" at the chosen location and to also print out the computer’s selection. Like the `user_turn` function, the `computer_turn` function does not return any value, but as a side effect it modifies the board.\n"
   ]
  },
  {
   "cell_type": "markdown",
   "metadata": {},
   "source": [
    "### Test computer_turn\n",
    "\n",
    "In your main program, add to the for loop that you previously created. Before you get the user’s selection, call your `computer_turn` function and your `display_board` function again. So your loop should now have four statements. I am not worried about recognizing a win at this point. We just want to see if the `computer_turn` function correctly selects valid empty locations to play and that the board is properly updated. Once you are convinced that your function is correct you may move on.\n"
   ]
  },
  {
   "cell_type": "markdown",
   "metadata": {},
   "source": [
    "### Determining a win\n",
    "\n",
    "Write a function called `check_player_win(board, symbol)` that takes as input a board and the symbol representing one of the players (either \"X\" or \"O\"), and returns `True` if that player has won. Otherwise it returns `False`.\n",
    "\n",
    "For example, if the current board look like this:\n",
    "```\n",
    " O | X | O\n",
    "-----------\n",
    " O | X |\n",
    "-----------\n",
    "   | X |\n",
    "```\n",
    "then `check_player_win(board, \"O\")` should return `False` and `check_player_win(board, \"X\")` should return `True`\n",
    "\n",
    "\n",
    "There are a number of cases you need to check. I suggest that you:\n",
    "\n",
    "- use a for loop to check the three possible horizontal wins\n",
    "\n",
    "- use another for loop to check the three possible vertical wins\n",
    "\n",
    "- test separately for the two possible diagonal wins\n",
    "\n",
    "\n"
   ]
  },
  {
   "cell_type": "markdown",
   "metadata": {},
   "source": [
    "### Test check_player_win\n",
    "\n",
    "In the main program, remove the for loop that you used to test the turn functions. Now create some test boards, like those shown below, that represent a win for one of the players and a loss for the other. Try cut and pasting this code from this notebook right into your program. The outputs of the `print` statements should be `True` for the winner and `False` for the other player.\n"
   ]
  },
  {
   "cell_type": "code",
   "execution_count": null,
   "metadata": {
    "collapsed": true
   },
   "outputs": [],
   "source": [
    "board1 = [\"O\", \" \", \"O\", \"X\", \"X\", \"X\", \"O\", \" \", \" \"]\n",
    "display_board(board1)\n",
    "print(\"Is O winner?\", check_player_win(board1, \"O\")) # False\n",
    "print(\"Is X winner?\", check_player_win(board1, \"X\")) # True\n",
    "board2 = [\"O\", \" \", \" \", \"O\", \"X\", \"X\", \"O\", \" \", \" \"]\n",
    "display_board(board2)\n",
    "print(\"Is O winner?\",check_player_win(board2, \"O\")) # True\n",
    "print(\"Is X winner?\",check_player_win(board2, \"X\")) # False\n",
    "board3 = [\"O\", \"X\", \"X\", \" \", \"O\", \" \", \" \", \" \", \"O\"]\n",
    "display_board(board3)\n",
    "print(\"Is O winner?\",check_player_win(board3, \"O\")) # True\n",
    "print(\"Is X winner?\",check_player_win(board3, \"X\")) # False"
   ]
  },
  {
   "cell_type": "markdown",
   "metadata": {},
   "source": [
    "Once you are convinced that your function is correct, you may move on. Go ahead and delete all of the sample boards and extra code that you added to test your `check_player_win` function."
   ]
  },
  {
   "cell_type": "markdown",
   "metadata": {},
   "source": [
    "### Putting it all together\n",
    "\n",
    "Once all of your helper functions are complete and tested, it is time to build the final version of your main program.\n",
    "\n",
    "Your main program should initially contain the statements that print the welcome message, initialize the board and the sample board, print the instructions, and display the sample board.\n",
    "\n",
    "Now you are ready to create the game loop. Should you use a for loop or a while loop? Do you know exactly how many times you’ll run the loop or does it depend on the circumstances?\n",
    "\n",
    "Each time through the game loop either the user will play or the computer will play. We recommend keeping a turn counter that you initialize to 1 and increment each time through the loop. When the turn counter is odd, it is the computer’s turn, because the computer gets to go first, otherwise it is the player’s turn. After each player’s turn you should check if that player has won. You should also display the updated game board.\n",
    "\n",
    "The game loop ends when one of the player’s has won, or if the turn counter reaches 10 without a winner, indicating a tie. Be sure to print the outcome of the game at the end.\n"
   ]
  },
  {
   "cell_type": "markdown",
   "metadata": {},
   "source": [
    "### Test main and the whole game\n",
    "\n",
    "To catch possible mistakes you might have made you should play lots of games using your program. Be sure that it works properly for all of the possible outcomes: a user win, a computer win, or a tie. \n"
   ]
  },
  {
   "cell_type": "markdown",
   "metadata": {},
   "source": [
    "### Bonus\n",
    "\n",
    "Update your program so that the computer player makes intelligent choices, rather than just choosing randomly from the open locations. For example, the computer could recognize when the user has the chance to win in the next turn, and block that location.\n"
   ]
  },
  {
   "cell_type": "markdown",
   "metadata": {},
   "source": [
    "### Credit\n",
    "*Special thanks to Kwebb for letting me co-opt this project*"
   ]
  }
 ],
 "metadata": {
  "kernelspec": {
   "display_name": "Python 3",
   "language": "python",
   "name": "python3"
  },
  "language_info": {
   "codemirror_mode": {
    "name": "ipython",
    "version": 3
   },
   "file_extension": ".py",
   "mimetype": "text/x-python",
   "name": "python",
   "nbconvert_exporter": "python",
   "pygments_lexer": "ipython3",
   "version": "3.5.2"
  }
 },
 "nbformat": 4,
 "nbformat_minor": 2
}
